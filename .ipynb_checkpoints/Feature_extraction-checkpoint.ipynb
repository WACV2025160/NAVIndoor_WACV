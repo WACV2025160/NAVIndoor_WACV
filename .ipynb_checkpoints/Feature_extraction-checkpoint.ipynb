{
 "cells": [
  {
   "cell_type": "code",
   "execution_count": 1,
   "id": "e73f9378-a502-4406-b0f6-94cc4759df5e",
   "metadata": {},
   "outputs": [],
   "source": [
    "from tqdm import tqdm\n",
    "import numpy as np\n",
    "import pandas as pd\n",
    "import torch\n",
    "from tqdm import tqdm\n",
    "from sklearn.model_selection import train_test_split\n",
    "from sklearn.linear_model import LogisticRegression\n",
    "from sklearn.metrics import roc_curve, auc, accuracy_score, f1_score\n",
    "import matplotlib.pyplot as plt\n",
    "from sklearn.feature_extraction.text import CountVectorizer\n",
    "from sklearn.discriminant_analysis import LinearDiscriminantAnalysis, QuadraticDiscriminantAnalysis\n",
    "from sklearn.metrics import confusion_matrix# Assuming x is a list of text documents and y is a binary label (0 or 1)\n",
    "# You need to convert text data into numerical features using CountVectorizer\n",
    "from sklearn.linear_model import LogisticRegression\n",
    "import pickle\n",
    "n_scenes = 13\n"
   ]
  },
  {
   "cell_type": "code",
   "execution_count": 13,
   "id": "b78975e4-959b-470e-a4e7-30f00cb42d16",
   "metadata": {},
   "outputs": [
    {
     "name": "stderr",
     "output_type": "stream",
     "text": [
      "100%|█████████████████████████████████████████| 13/13 [00:00<00:00, 1048.52it/s]\n"
     ]
    }
   ],
   "source": [
    "#extract RL features\n",
    "model_name = 'RLnv'\n",
    "feature = 'q_values'\n",
    "for n in tqdm(range(n_scenes)):\n",
    "    outputs = torch.stack([results[model_name][n][i][feature] for i in results[model_name][n].keys()]).cpu().detach()\n",
    "    with open(model_name+feature+'/'+str(n)+'.pickle', 'wb') as f:\n",
    "            pickle.dump(outputs,f)"
   ]
  },
  {
   "cell_type": "code",
   "execution_count": 10,
   "id": "a20c1892-312a-4f90-8c55-2e76a8cbe9d1",
   "metadata": {},
   "outputs": [
    {
     "name": "stderr",
     "output_type": "stream",
     "text": [
      "100%|███████████████████████████████████████████| 13/13 [00:17<00:00,  1.35s/it]\n"
     ]
    }
   ],
   "source": [
    "#extract RL features\n",
    "\n",
    "\n",
    "    \n",
    "distances_Y = []\n",
    "q_values_X = []\n",
    "n_scenes = 13\n",
    "\n",
    "distances_Y_test = []\n",
    "q_values_X_test = []\n",
    "train = np.array([ 4,  9,  8,  5,  6,  3,  0,  1, 12, 10])\n",
    "model_name = 'RLnv'\n",
    "feature = 'q_values'\n",
    "for n in tqdm(range(n_scenes)):\n",
    "    with open('scene_'+str(n)+'.pickle', 'rb') as f:\n",
    "            data,image_dict = pickle.load(f)\n",
    "    distances = np.array([image_dict[i]['distance'] for i in image_dict.keys()])\n",
    "    q_values = torch.stack([results[model_name][n][i][feature] for i in results[model_name][n].keys()]).cpu().detach()\n",
    "    with open('RLnvq_values/'+str(n)+'.pickle', 'wb') as f:\n",
    "            pickle.dump(outputs,f)\n"
   ]
  },
  {
   "cell_type": "code",
   "execution_count": 12,
   "id": "f1c6d3c0-6ab1-4db4-b3c6-723f44feddd4",
   "metadata": {},
   "outputs": [
    {
     "name": "stderr",
     "output_type": "stream",
     "text": [
      "100%|███████████████████████████████████████████| 13/13 [00:06<00:00,  2.03it/s]\n"
     ]
    }
   ],
   "source": [
    "#save distances\n",
    "\n",
    "\n",
    "n_scenes = 13\n",
    "\n",
    "for n in tqdm(range(n_scenes)):\n",
    "    with open('scene_'+str(n)+'.pickle', 'rb') as f:\n",
    "            data,image_dict = pickle.load(f)\n",
    "    distances = np.array([image_dict[i]['distance'] for i in image_dict.keys()])\n",
    "    with open('distances/'+str(n)+'.pickle', 'wb') as f:\n",
    "            pickle.dump(distances,f)\n"
   ]
  },
  {
   "cell_type": "code",
   "execution_count": null,
   "id": "f5a66f04-d5d7-4251-89fb-50e87bc92053",
   "metadata": {},
   "outputs": [],
   "source": [
    "with open('dino_features.pickle', 'rb') as f:\n",
    "                X,Y,Y_reg,X_test,Y_reg_test, Y_test = pickle.load(f)"
   ]
  },
  {
   "cell_type": "code",
   "execution_count": null,
   "id": "a7b42e3b-4e73-4ecd-8667-4836e26e7f9c",
   "metadata": {},
   "outputs": [],
   "source": [
    "from transformers import SegformerImageProcessor, SegformerForSemanticSegmentation\n",
    "from PIL import Image\n",
    "import requests\n",
    "import torch \n",
    "import numpy as np\n",
    "import pickle\n",
    "from tqdm import tqdm\n",
    "\n",
    "device = 'cuda'\n",
    "# Assuming you have a processor that can convert logits to predictions\n",
    "# (e.g., converting logits to segmentation mask using argmax)\n",
    "processor = SegformerImageProcessor.from_pretrained(\"nvidia/segformer-b2-finetuned-ade-512-512\")\n",
    "model = SegformerForSemanticSegmentation.from_pretrained(\"nvidia/segformer-b2-finetuned-ade-512-512\").to(device)\n",
    "\n",
    "distances_Y = []\n",
    "q_values_X = torch.tensor([])\n",
    "n_scenes = 13\n",
    "\n",
    "distances_Y_test = []\n",
    "q_values_X_test = torch.tensor([])\n",
    "train = np.array([ 4,  9,  8,  5,  6,  3,  0,  1, 12, 10])\n",
    "model_name = 'RLfloor'\n",
    "for n in range(n_scenes):\n",
    "    with open('scene_'+str(n)+'.pickle', 'rb') as f:\n",
    "            data,image_dict = pickle.load(f)\n",
    "    distances = np.array([image_dict[i]['distance'] for i in image_dict.keys()])\n",
    "    \n",
    "    images = np.array([image_dict[i]['img'] for i in image_dict.keys()])\n",
    "    inputs = [processor(images=torch.tensor(image).unsqueeze(0), return_tensors=\"pt\") for image in tqdm(images)]\n",
    "    for input in tqdm(inputs):\n",
    "        input['pixel_values'] = input['pixel_values'].to('cuda')\n",
    "    with torch.no_grad():\n",
    "        outputs = torch.stack([model(**input,output_hidden_states=True).hidden_states[3].flatten().cpu().detach() for input in tqdm(inputs)])\n",
    "    with open('segformer_features/'+str(n)+'.pickle', 'wb') as f:\n",
    "                pickle.dump(outputs,f)\n",
    "    if n in train:\n",
    "        print('listing...')\n",
    "        \n",
    "        q_values_X = torch.cat((q_values_X, outputs))\n",
    "        distances_Y.extend(distances)\n",
    "    else:\n",
    "        q_values_X_test = torch.cat((q_values_X_test, outputs))\n",
    "        distances_Y_test.extend(distances)\n",
    "\n",
    "\n",
    "\n"
   ]
  },
  {
   "cell_type": "code",
   "execution_count": null,
   "id": "11b33189-e694-4419-9a3e-69322f4dc301",
   "metadata": {},
   "outputs": [],
   "source": [
    "from transformers import AutoImageProcessor, AutoModel\n",
    "from PIL import Image\n",
    "import requests\n",
    "#compute dino features\n",
    "url = 'http://images.cocodataset.org/val2017/000000039769.jpg'\n",
    "image = Image.open(requests.get(url, stream=True).raw)\n",
    "\n",
    "processor = AutoImageProcessor.from_pretrained('facebook/dinov2-base')\n",
    "model = AutoModel.from_pretrained('facebook/dinov2-base').to('cuda')\n",
    "\n",
    "distances_Y = []\n",
    "q_values_X = torch.tensor([])\n",
    "n_scenes = 13\n",
    "\n",
    "distances_Y_test = []\n",
    "q_values_X_test = torch.tensor([])\n",
    "train = np.array([ 4,  9,  8,  5,  6,  3,  0,  1, 12, 10])\n",
    "for n in range(n_scenes):\n",
    "    with open('scene_'+str(n)+'.pickle', 'rb') as f:\n",
    "            data,image_dict = pickle.load(f)\n",
    "    distances = np.array([image_dict[i]['distance'] for i in image_dict.keys()])\n",
    "    \n",
    "    images = np.array([image_dict[i]['img'].resize((224,224)) for i in image_dict.keys()])\n",
    "    inputs = [processor(images=torch.tensor(image).unsqueeze(0), return_tensors=\"pt\") for image in tqdm(images)]\n",
    "    for input in tqdm(inputs):\n",
    "        input['pixel_values'] = input['pixel_values'].to('cuda')\n",
    "    with torch.no_grad():\n",
    "        outputs = torch.stack([model(**input).last_hidden_state.flatten().cpu().detach() for input in tqdm(inputs)])\n",
    "    with open('dinov2_features/'+str(n)+'.pickle', 'wb') as f:\n",
    "                pickle.dump(outputs,f)\n",
    "\n"
   ]
  },
  {
   "cell_type": "code",
   "execution_count": 5,
   "id": "e6ffde0d-8587-4d01-a9f5-24002ce02e31",
   "metadata": {},
   "outputs": [
    {
     "name": "stderr",
     "output_type": "stream",
     "text": [
      "100%|██████████████████████████████████████| 1728/1728 [00:14<00:00, 119.68it/s]\n",
      "100%|█████████████████████████████████████| 1728/1728 [00:00<00:00, 3222.40it/s]\n",
      "100%|███████████████████████████████████████| 1728/1728 [00:18<00:00, 93.73it/s]\n",
      "100%|███████████████████████████████████████| 1536/1536 [00:18<00:00, 81.62it/s]\n",
      "100%|█████████████████████████████████████| 1536/1536 [00:00<00:00, 3318.94it/s]\n",
      "100%|███████████████████████████████████████| 1536/1536 [00:16<00:00, 91.49it/s]\n",
      "100%|███████████████████████████████████████| 1548/1548 [00:16<00:00, 91.13it/s]\n",
      "100%|█████████████████████████████████████| 1548/1548 [00:00<00:00, 3318.29it/s]\n",
      "100%|███████████████████████████████████████| 1548/1548 [00:16<00:00, 93.98it/s]\n",
      "100%|██████████████████████████████████████| 1500/1500 [00:12<00:00, 117.77it/s]\n",
      "100%|█████████████████████████████████████| 1500/1500 [00:00<00:00, 3386.61it/s]\n",
      "100%|███████████████████████████████████████| 1500/1500 [00:16<00:00, 92.22it/s]\n",
      "100%|██████████████████████████████████████| 1320/1320 [00:11<00:00, 115.59it/s]\n",
      "100%|█████████████████████████████████████| 1320/1320 [00:00<00:00, 3417.35it/s]\n",
      "100%|███████████████████████████████████████| 1320/1320 [00:14<00:00, 94.03it/s]\n",
      "100%|██████████████████████████████████████| 1128/1128 [00:09<00:00, 115.24it/s]\n",
      "100%|█████████████████████████████████████| 1128/1128 [00:00<00:00, 3407.48it/s]\n",
      "100%|███████████████████████████████████████| 1128/1128 [00:12<00:00, 93.80it/s]\n",
      "100%|██████████████████████████████████████| 1512/1512 [00:12<00:00, 119.68it/s]\n",
      "100%|█████████████████████████████████████| 1512/1512 [00:00<00:00, 3402.77it/s]\n",
      "100%|███████████████████████████████████████| 1512/1512 [00:15<00:00, 94.61it/s]\n",
      "100%|████████████████████████████████████████| 972/972 [00:08<00:00, 114.88it/s]\n",
      "100%|███████████████████████████████████████| 972/972 [00:00<00:00, 3384.73it/s]\n",
      "100%|█████████████████████████████████████████| 972/972 [00:10<00:00, 93.69it/s]\n",
      "100%|██████████████████████████████████████| 1644/1644 [00:14<00:00, 115.39it/s]\n",
      "100%|█████████████████████████████████████| 1644/1644 [00:00<00:00, 3393.40it/s]\n",
      "100%|███████████████████████████████████████| 1644/1644 [00:17<00:00, 93.77it/s]\n",
      "100%|███████████████████████████████████████| 1392/1392 [00:15<00:00, 90.45it/s]\n",
      "100%|█████████████████████████████████████| 1392/1392 [00:00<00:00, 3261.72it/s]\n",
      "100%|███████████████████████████████████████| 1392/1392 [00:14<00:00, 93.94it/s]\n",
      "100%|██████████████████████████████████████| 1548/1548 [00:13<00:00, 114.80it/s]\n",
      "100%|█████████████████████████████████████| 1548/1548 [00:00<00:00, 3345.43it/s]\n",
      "100%|███████████████████████████████████████| 1548/1548 [00:16<00:00, 91.54it/s]\n",
      "100%|██████████████████████████████████████| 1224/1224 [00:10<00:00, 112.34it/s]\n",
      "100%|█████████████████████████████████████| 1224/1224 [00:00<00:00, 3370.21it/s]\n",
      "100%|███████████████████████████████████████| 1224/1224 [00:13<00:00, 92.15it/s]\n",
      "100%|██████████████████████████████████████| 1488/1488 [00:13<00:00, 113.08it/s]\n",
      "100%|█████████████████████████████████████| 1488/1488 [00:00<00:00, 3374.37it/s]\n",
      "100%|███████████████████████████████████████| 1488/1488 [00:16<00:00, 92.62it/s]\n"
     ]
    }
   ],
   "source": [
    "import torch\n",
    "from datasets import load_dataset\n",
    "from transformers import EfficientNetImageProcessor, EfficientNetForImageClassification\n",
    "\n",
    "dataset = load_dataset(\"huggingface/cats-image\")\n",
    "image = dataset[\"test\"][\"image\"][0]\n",
    "\n",
    "preprocessor = EfficientNetImageProcessor.from_pretrained(\"google/efficientnet-b7\")\n",
    "model = EfficientNetForImageClassification.from_pretrained(\"google/efficientnet-b7\").to('cuda')\n",
    "\n",
    "for n in range(n_scenes):\n",
    "    with open('scene_'+str(n)+'.pickle', 'rb') as f:\n",
    "            data,image_dict = pickle.load(f)\n",
    "    distances = np.array([image_dict[i]['distance'] for i in image_dict.keys()])\n",
    "    \n",
    "    images = np.array([image_dict[i]['img'] for i in image_dict.keys()])\n",
    "    inputs = [preprocessor(images=torch.tensor(image).unsqueeze(0), return_tensors=\"pt\") for image in tqdm(images)]\n",
    "    for input in tqdm(inputs):\n",
    "        input['pixel_values'] = input['pixel_values'].to('cuda')\n",
    "    with torch.no_grad():\n",
    "        outputs = torch.stack([model(**input,output_hidden_states=True).hidden_states[55].flatten().cpu().detach() for input in tqdm(inputs)])\n",
    "    with open('EfficientNetb7_features/'+str(n)+'.pickle', 'wb') as f:\n",
    "                pickle.dump(outputs,f)\n",
    "\n"
   ]
  },
  {
   "cell_type": "code",
   "execution_count": 10,
   "id": "af2cb6cf-70dd-4c78-aea6-ab01a2c072ba",
   "metadata": {},
   "outputs": [
    {
     "name": "stderr",
     "output_type": "stream",
     "text": [
      " 72%|███████████████████████████▉           | 1237/1728 [00:37<00:14, 33.05it/s]\n",
      "100%|██████████████████████████████████████| 1728/1728 [00:03<00:00, 442.63it/s]\n",
      "100%|██████████████████████████████████████| 1728/1728 [00:03<00:00, 449.67it/s]\n",
      "100%|██████████████████████████████████████| 1536/1536 [00:03<00:00, 500.61it/s]\n",
      "100%|██████████████████████████████████████| 1536/1536 [00:03<00:00, 454.50it/s]\n",
      "100%|██████████████████████████████████████| 1548/1548 [00:03<00:00, 492.66it/s]\n",
      "100%|██████████████████████████████████████| 1548/1548 [00:03<00:00, 460.95it/s]\n",
      "100%|██████████████████████████████████████| 1500/1500 [00:02<00:00, 509.85it/s]\n",
      "100%|██████████████████████████████████████| 1500/1500 [00:03<00:00, 452.50it/s]\n",
      "100%|██████████████████████████████████████| 1320/1320 [00:02<00:00, 505.01it/s]\n",
      "100%|██████████████████████████████████████| 1320/1320 [00:02<00:00, 455.30it/s]\n",
      "100%|██████████████████████████████████████| 1128/1128 [00:02<00:00, 487.60it/s]\n",
      "100%|██████████████████████████████████████| 1128/1128 [00:02<00:00, 464.47it/s]\n",
      "100%|██████████████████████████████████████| 1512/1512 [00:02<00:00, 511.50it/s]\n",
      "100%|██████████████████████████████████████| 1512/1512 [00:03<00:00, 453.41it/s]\n",
      "100%|████████████████████████████████████████| 972/972 [00:01<00:00, 510.00it/s]\n",
      "100%|████████████████████████████████████████| 972/972 [00:02<00:00, 460.73it/s]\n",
      "100%|██████████████████████████████████████| 1644/1644 [00:03<00:00, 476.90it/s]\n",
      "100%|██████████████████████████████████████| 1644/1644 [00:03<00:00, 457.71it/s]\n",
      "100%|██████████████████████████████████████| 1392/1392 [00:02<00:00, 517.29it/s]\n",
      "100%|██████████████████████████████████████| 1392/1392 [00:03<00:00, 450.78it/s]\n",
      "100%|██████████████████████████████████████| 1548/1548 [00:03<00:00, 497.67it/s]\n",
      "100%|██████████████████████████████████████| 1548/1548 [00:03<00:00, 449.89it/s]\n",
      "100%|██████████████████████████████████████| 1224/1224 [00:02<00:00, 477.34it/s]\n",
      "100%|██████████████████████████████████████| 1224/1224 [00:02<00:00, 451.71it/s]\n",
      "100%|██████████████████████████████████████| 1488/1488 [00:03<00:00, 477.17it/s]\n",
      "100%|██████████████████████████████████████| 1488/1488 [00:03<00:00, 455.18it/s]\n"
     ]
    }
   ],
   "source": [
    "from urllib.request import urlopen\n",
    "from PIL import Image\n",
    "import timm\n",
    "import torch\n",
    "\n",
    "\n",
    "model = timm.create_model(\n",
    "    'convnextv2_atto.fcmae',\n",
    "    pretrained=True,\n",
    "    num_classes=0,  # remove classifier nn.Linear\n",
    ").to('cuda')\n",
    "model = model.eval()\n",
    "\n",
    "# get model specific transforms (normalization, resize)\n",
    "data_config = timm.data.resolve_model_data_config(model)\n",
    "transforms = timm.data.create_transform(**data_config, is_training=False)\n",
    "\n",
    "for n in range(n_scenes):\n",
    "    with open('scene_'+str(n)+'.pickle', 'rb') as f:\n",
    "            data,image_dict = pickle.load(f)\n",
    "    distances = np.array([image_dict[i]['distance'] for i in image_dict.keys()])\n",
    "    \n",
    "    images = [image_dict[i]['img'] for i in image_dict.keys()]\n",
    "    inputs = [transforms(image).to('cuda').unsqueeze(0) for image in tqdm(images)]\n",
    "    with torch.no_grad():\n",
    "        outputs = torch.stack([model.forward_features(input).flatten().cpu().detach() for input in tqdm(inputs)])\n",
    "    with open('ConvNextv2_features/'+str(n)+'.pickle', 'wb') as f:\n",
    "                pickle.dump(outputs,f)\n",
    "\n"
   ]
  }
 ],
 "metadata": {
  "kernelspec": {
   "display_name": "Python 3 (ipykernel)",
   "language": "python",
   "name": "python3"
  },
  "language_info": {
   "codemirror_mode": {
    "name": "ipython",
    "version": 3
   },
   "file_extension": ".py",
   "mimetype": "text/x-python",
   "name": "python",
   "nbconvert_exporter": "python",
   "pygments_lexer": "ipython3",
   "version": "3.11.5"
  }
 },
 "nbformat": 4,
 "nbformat_minor": 5
}
