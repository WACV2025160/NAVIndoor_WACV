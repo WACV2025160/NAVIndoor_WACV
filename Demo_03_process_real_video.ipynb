{
 "cells": [
  {
   "cell_type": "markdown",
   "id": "d3cada19-3a61-407d-88ac-8d360770fdbd",
   "metadata": {},
   "source": [
    "# Demo Notebook for processing your own indoor video with NavImpaired"
   ]
  },
  {
   "cell_type": "markdown",
   "id": "3ad1fbcd-162d-47f3-be19-0824d8ac27f3",
   "metadata": {},
   "source": [
    "### You need to specify path of the model checkpoint and the video you want to process."
   ]
  },
  {
   "cell_type": "code",
   "execution_count": 1,
   "id": "8fa7503f-c08b-4b03-85f2-c8f25e2b9c4f",
   "metadata": {
    "tags": []
   },
   "outputs": [],
   "source": [
    "path = 'video_processing/9000_0.97_20_50_150_0.001_128_hard_5_4_dueling_testing.pt'\n",
    "video_path = 'video_processing/video.mp4'\n",
    "output_path = 'video_processing/final_video.avi'\n"
   ]
  },
  {
   "cell_type": "markdown",
   "id": "36bcf6da-2720-43d4-a36a-551b5e58f6c1",
   "metadata": {},
   "source": [
    "### Imports and loading segformer. The first time you import the model from huggingface, it will download it automatically."
   ]
  },
  {
   "cell_type": "code",
   "execution_count": 2,
   "id": "430e0711-9419-42c4-881e-abd7700e1fe8",
   "metadata": {
    "tags": []
   },
   "outputs": [
    {
     "name": "stderr",
     "output_type": "stream",
     "text": [
      "C:\\Users\\ilias\\anaconda3\\Lib\\site-packages\\transformers\\utils\\generic.py:260: UserWarning: torch.utils._pytree._register_pytree_node is deprecated. Please use torch.utils._pytree.register_pytree_node instead.\n",
      "  torch.utils._pytree._register_pytree_node(\n"
     ]
    },
    {
     "name": "stdout",
     "output_type": "stream",
     "text": [
      "Loading model\n"
     ]
    },
    {
     "name": "stderr",
     "output_type": "stream",
     "text": [
      "C:\\Users\\ilias\\anaconda3\\Lib\\site-packages\\transformers\\models\\segformer\\image_processing_segformer.py:100: FutureWarning: The `reduce_labels` parameter is deprecated and will be removed in a future version. Please use `do_reduce_labels` instead.\n",
      "  warnings.warn(\n"
     ]
    }
   ],
   "source": [
    "import cv2\n",
    "from transformers import SegformerImageProcessor, SegformerForSemanticSegmentation\n",
    "from PIL import Image\n",
    "import requests\n",
    "import torch\n",
    "import torch.nn.functional as F\n",
    "from transformers import SegformerImageProcessor, SegformerForSemanticSegmentation\n",
    "import torch.nn as nn\n",
    "import torch.nn.functional as F\n",
    "import torch.nn.init as init\n",
    "import torchvision.transforms as transforms\n",
    "from tqdm import tqdm\n",
    "import numpy as np\n",
    "from matplotlib import pyplot as plt\n",
    "import io\n",
    "import os\n",
    "from torch.utils.data import Dataset, DataLoader\n",
    "\n",
    "\n",
    "\n",
    "os.environ[\"KMP_DUPLICATE_LIB_OK\"]=\"TRUE\" #to fix an issue due to multiple OpenMP runtime\n",
    "size = 4 #Segformer scale (up to 4, better performances but will require more memory and time)\n",
    "\n",
    "print('Loading model')\n",
    "device = torch.device(\"cuda\" if torch.cuda.is_available() else \"cpu\")\n",
    "# Assuming you have a processor that can convert logits to predictions\n",
    "# (e.g., converting logits to segmentation mask using argmax)\n",
    "processor = SegformerImageProcessor.from_pretrained(\"nvidia/segformer-b\"+str(size)+\"-finetuned-ade-512-512\")\n",
    "model = SegformerForSemanticSegmentation.from_pretrained(\"nvidia/segformer-b\"+str(size)+\"-finetuned-ade-512-512\").to(device)\n",
    "\n"
   ]
  },
  {
   "cell_type": "markdown",
   "id": "98c6bd64-e581-4473-b2a9-57544434a4aa",
   "metadata": {},
   "source": [
    "## Extracting frames from the video (takes some time)"
   ]
  },
  {
   "cell_type": "code",
   "execution_count": 3,
   "id": "506f07b6-550e-4fd2-a78d-0b8068284e94",
   "metadata": {
    "tags": []
   },
   "outputs": [
    {
     "name": "stdout",
     "output_type": "stream",
     "text": [
      "Transforming Video into frames\n"
     ]
    }
   ],
   "source": [
    "vidcap = cv2.VideoCapture(video_path)\n",
    "success,image = vidcap.read()\n",
    "count = 0\n",
    "success = True\n",
    "\n",
    "print('Transforming Video into frames')\n",
    "frames = []\n",
    "while success:\n",
    "    success,image = vidcap.read()\n",
    "    if success:\n",
    "        image = cv2.cvtColor(image, cv2.COLOR_BGR2RGB)\n",
    "        min_shape = np.array(image.shape[:2]).min()\n",
    "        if min_shape>1024: #this with lower memory usage\n",
    "            image = np.array(Image.fromarray(image).resize((int(image.shape[1]//2),int(image.shape[0]//2))))\n",
    "        frames.append(image)\n",
    "    if cv2.waitKey(10) == 27:                     # exit if Escape is hit\n",
    "        break\n",
    "    count += 1\n",
    "    \n",
    "length = len(frames)//10 * 10\n",
    "frames = frames[:length]"
   ]
  },
  {
   "cell_type": "markdown",
   "id": "8831a279-1a72-435b-a376-e21371c3f2d3",
   "metadata": {},
   "source": [
    "## Set the Ade20k labels you want to be considered as obstacles : full list here (https://huggingface.co/datasets/huggingface/label-files/blob/main/ade20k-id2label.json)"
   ]
  },
  {
   "cell_type": "code",
   "execution_count": 4,
   "id": "97ede9e1-9794-4eaf-b3db-727a32e8b7df",
   "metadata": {
    "tags": []
   },
   "outputs": [],
   "source": [
    "OI = {\n",
    "  #\"0\": \"wall\",\n",
    "  #\"3\": \"floor\",\n",
    "  \"8\": \"windowpane\",\n",
    "  \"15\": \"table\",\n",
    "  \"19\": \"chair\",\n",
    "  \"23\": \"sofa\",\n",
    "  \"24\": \"shelf\",\n",
    "  \"30\": \"armchair\",\n",
    "  \"31\": \"seat\",\n",
    "  \"33\": \"desk\",\n",
    "  \"38\": \"railing\",\n",
    "  \"42\": \"column\",\n",
    "  \"53\": \"stairs\",\n",
    "  \"64\": \"coffee table\",\n",
    "  \"69\": \"bench\",\n",
    "  \"75\": \"swivel chair\",\n",
    "  \"77\": \"bar\",\n",
    "  \"95\": \"bannister\",\n",
    "  \"110\": \"stool\",\n",
    "  \"111\": \"barrel\",\n",
    "  \"115\": \"bag\",\n",
    "  \"121\": \"step\",\n",
    "  \"130\": \"screen\",\n",
    "  \"132\": \"sculpture\",\n",
    "  \"147\": \"glass\",\n",
    "}\n",
    "oii = torch.tensor([int(i) for i in list(OI.keys())])\n"
   ]
  },
  {
   "cell_type": "markdown",
   "id": "cd3291c5-cc70-4e73-bf22-c3183c872893",
   "metadata": {},
   "source": [
    "### Utils and NavImpaired import"
   ]
  },
  {
   "cell_type": "code",
   "execution_count": 5,
   "id": "56e2e5d0-aec6-4aa5-8e8a-60ec8a145f41",
   "metadata": {
    "tags": []
   },
   "outputs": [],
   "source": [
    "\n",
    "\n",
    "def visualize_arrows(frame, probabilities):\n",
    "    height, width, _ = frame.shape\n",
    "    frame = frame.copy()\n",
    "\n",
    "    # Arrow length proportional to the image size\n",
    "    arrow_length = min(height, width) // 4\n",
    "\n",
    "    # Arrow colors (assuming probabilities are in the range [0, 1])\n",
    "    arrow_colors = [(255, 0, 0), (255, 0, 0), (255, 0, 0), (255, 0, 0)]\n",
    "\n",
    "    # Convert angles to radians\n",
    "    angles = [np.radians(angle) for angle in [90, 0, 180, -90]]\n",
    "\n",
    "    for angle, prob,k in zip(angles, probabilities,range(len(probabilities))):\n",
    "        # Calculate arrow tip coordinates\n",
    "        color = (255,255,255)\n",
    "        direction = probabilities.argmax()\n",
    "        if k == direction:\n",
    "            color = (0,127,0)\n",
    "      \n",
    "\n",
    "        tip_x = int(width / 4 + arrow_length * prob * np.cos(angle))\n",
    "        tip_y = int(3*height / 4 - arrow_length * prob * np.sin(angle))\n",
    "\n",
    "        # Draw arrow\n",
    "        cv2.arrowedLine(frame, (width // 4, 3*height // 4), (tip_x, tip_y), color, 2)\n",
    "\n",
    "    return frame\n",
    "\n",
    "def visualize_arrows_bis(frame, q_value,t=3): #Plot arrows for A theta\n",
    "    height, width, _ = frame.shape\n",
    "    frame = frame.copy()\n",
    "    if q_value < t:\n",
    "        color = (255,0,0)\n",
    "    else:\n",
    "        color = (0,255,0)\n",
    "    q_value = min(q_value,6)\n",
    "    q_value/=10\n",
    "    arrow_length = min(height, width) // 4\n",
    "\n",
    "\n",
    "    angle = np.radians(90)\n",
    "\n",
    "\n",
    "\n",
    "    tip_x = int(width / 4 + arrow_length * q_value * np.cos(angle))\n",
    "    tip_y = int(height / 4 - arrow_length * q_value * np.sin(angle))\n",
    "\n",
    "    cv2.arrowedLine(frame, (width // 4, height // 4), (tip_x, tip_y), color, 2)\n",
    "\n",
    "    return frame\n",
    "\n",
    "\n",
    "\n",
    "class MNmodelPartAM_Dueling(nn.Module):\n",
    "    def __init__(self,scale,output = 128,dropout=0.25,n_actions=5,am=10,aes=10,ahes=100,n_frames=3): #action memory, action embed size, action historic embed size\n",
    "        super(MNmodelPartAM_Dueling, self).__init__()\n",
    "        self.unet = False\n",
    "        self.y_size = 10*am\n",
    "        self.n_actions = n_actions\n",
    "        self.am = am\n",
    "        self.dropout = dropout\n",
    "        self.output = output\n",
    "        self.conv0 = nn.Conv2d(n_frames, 16*scale, kernel_size=5, stride=1,padding=1) #CHECK HOW SPATIAL DIM IS REDUCED AFTER THIS\n",
    "        self.conv1 = nn.Conv2d(16*scale, 16*scale, kernel_size=3, stride=2,padding=1) #CHECK HOW SPATIAL DIM IS REDUCED AFTER THIS\n",
    "        self.conv2 = nn.Conv2d(16*scale, 16*scale, kernel_size=3, stride=2,padding=1)\n",
    "        self.conv3 = nn.Conv2d(16*scale, 4*scale, kernel_size=3, stride=1,padding=1)\n",
    "        self.conv4 = nn.Conv2d(4*scale, 1*scale, kernel_size=3, stride=2,padding=1)\n",
    "\n",
    "        self.fc1 = nn.Linear(1*scale*16*16, 1*scale*16*16)\n",
    "        self.dropout1 = nn.Dropout(self.dropout)\n",
    "        self.fc2 = nn.Linear(1*scale*16*16, scale*8*16)\n",
    "        self.dropout2 = nn.Dropout(self.dropout)\n",
    "        self.fc3 = nn.Linear(scale*8*16, 16*16)\n",
    "        self.dropout3 = nn.Dropout(self.dropout)\n",
    "        self.fc4 = nn.Linear(16*16+ahes, 16*16+ahes) \n",
    "        self.dropout4 = nn.Dropout(self.dropout)\n",
    "\n",
    "        self.fcv1 = nn.Linear(16*16+ahes, 16*16+ahes)\n",
    "        self.fcv2 = nn.Linear(16*16+ahes, 100)\n",
    "        self.fcv3 = nn.Linear(100, 1)\n",
    "        \n",
    "        self.fc5 = nn.Linear(16*16+ahes, 16*16+ahes)\n",
    "        self.dropout5 = nn.Dropout(self.dropout)\n",
    "        self.fc6 = nn.Linear(16*16+ahes, self.output)\n",
    "        \n",
    "        self.fc1_y = nn.Linear(self.n_actions, aes)\n",
    "        self.fc2_y = nn.Linear(aes*am, ahes)\n",
    "        self.dropout6 = nn.Dropout(self.dropout)\n",
    "        self.dropout7 = nn.Dropout(self.dropout)\n",
    "        \n",
    "        self.initialize_weights()\n",
    "    def initialize_weights(self):\n",
    "        for param in self.parameters():\n",
    "            if param.requires_grad:\n",
    "                if len(param.shape) > 1:\n",
    "                    init.xavier_uniform_(param)\n",
    "                else:\n",
    "                    init.constant_(param, 0)\n",
    "    def forward(self, x, y, eval = False):\n",
    "        x = F.gelu(self.conv0(x))\n",
    "        x = F.gelu(self.conv1(x))\n",
    "        x = F.gelu(self.conv2(x))\n",
    "        x = F.gelu(self.conv3(x))\n",
    "        x = F.gelu(self.conv4(x))\n",
    "        x = x.flatten(1)\n",
    "        \n",
    "\n",
    "        x = F.gelu(self.fc1(x))\n",
    "        if not eval:\n",
    "            x = self.dropout1(x)\n",
    "        x = F.gelu(self.fc2(x))\n",
    "        if not eval:\n",
    "            x = self.dropout2(x)\n",
    "        x = F.gelu(self.fc3(x))\n",
    "        if not eval:\n",
    "            x = self.dropout3(x)\n",
    "\n",
    "\n",
    "        y = F.gelu(self.fc1_y(y)) #action_mapping\n",
    "        if not eval:\n",
    "            y = self.dropout6(y)\n",
    "        y = y.flatten(-2) #concatenate action embeds\n",
    "        y = F.gelu(self.fc2_y(y))\n",
    "        if not eval:\n",
    "            y = self.dropout7(y)\n",
    "\n",
    "        x = torch.cat((x,y),axis=-1)\n",
    "        \n",
    "        x = F.gelu(self.fc4(x))\n",
    "        v = F.gelu(self.fcv3(F.gelu(self.fcv2(F.gelu(self.fcv1(x))))))\n",
    "        \n",
    "        x = F.gelu(self.fc5(x))\n",
    "        a = F.gelu(self.fc6(x))\n",
    "        norm_cst = a.mean()\n",
    "        \n",
    "        return 1,v+a-norm_cst\n",
    "\n",
    "\n",
    "\n",
    "class FramesDataset(Dataset):\n",
    "    def __init__(self, frames_list, inet_mean = torch.tensor([0.485,0.456,0.406]), inet_std = torch.tensor([0.229,0.224,0.225])):\n",
    "\n",
    "        self.frames_list = frames_list\n",
    "        self.inet_mean = inet_mean\n",
    "        self.inet_std = inet_std\n",
    "    def preprocess_frame(self,frame):\n",
    "        return(((torch.tensor(np.array(Image.fromarray(frame).resize((512,512))))/255-self.inet_mean)/self.inet_std).permute((2,0,1)))\n",
    "    def __len__(self):\n",
    "        return len(self.frames_list)\n",
    "\n",
    "    def __getitem__(self, idx):\n",
    "        frame = self.frames_list[idx]\n",
    "        processed_frame = self.preprocess_frame(frame)\n",
    "        return processed_frame\n",
    "\n",
    "    \n",
    "    \n",
    "model_RL = MNmodelPartAM_Dueling(scale=3,output=4,dropout=0,n_actions = 4,am = 20,aes = 20, ahes = 150,n_frames = 3)\n",
    "model_RL.load_state_dict(torch.load(path))\n",
    "model_RL = model_RL.to(device)\n",
    "\n",
    "\n"
   ]
  },
  {
   "cell_type": "markdown",
   "id": "e21c1012-b64a-4e28-8945-009af808b536",
   "metadata": {},
   "source": [
    "### Launch the process (we compute segmentation and outputs only every 5 frames to save time)"
   ]
  },
  {
   "cell_type": "code",
   "execution_count": 6,
   "id": "25cdae1f-d5ee-4cce-962e-13effa4d798e",
   "metadata": {
    "tags": []
   },
   "outputs": [
    {
     "name": "stdout",
     "output_type": "stream",
     "text": [
      "Computing segmentation maps and q values\n"
     ]
    },
    {
     "name": "stderr",
     "output_type": "stream",
     "text": [
      "100%|██████████| 97/97 [00:15<00:00,  6.41it/s]\n"
     ]
    },
    {
     "name": "stdout",
     "output_type": "stream",
     "text": [
      "Mapping navigational features\n"
     ]
    },
    {
     "name": "stderr",
     "output_type": "stream",
     "text": [
      "100%|██████████| 194/194 [00:00<00:00, 15563.58it/s]\n",
      "100%|██████████| 194/194 [00:00<00:00, 16113.41it/s]\n"
     ]
    },
    {
     "name": "stdout",
     "output_type": "stream",
     "text": [
      "Computing plots of v_theta\n"
     ]
    },
    {
     "name": "stderr",
     "output_type": "stream",
     "text": [
      "100%|██████████| 970/970 [00:53<00:00, 18.24it/s]\n"
     ]
    },
    {
     "name": "stdout",
     "output_type": "stream",
     "text": [
      "Saving video\n"
     ]
    },
    {
     "name": "stderr",
     "output_type": "stream",
     "text": [
      "100%|██████████| 970/970 [00:14<00:00, 66.34it/s]\n"
     ]
    }
   ],
   "source": [
    "steps = 5\n",
    "t_floor = 0.3\n",
    "t_wall = 0.05\n",
    "t_obstacles = 0.3\n",
    "t_ceiling = 0.3\n",
    "v_thetas = []\n",
    "frames_seg = []\n",
    "probas_moves = []\n",
    "\n",
    "\n",
    "DT = FramesDataset(frames[::steps])\n",
    "dataloader = DataLoader(DT, batch_size=2, shuffle=False)\n",
    "\n",
    "print('Computing segmentation maps and q values')\n",
    "for batch in tqdm(dataloader):\n",
    "    # Process your batch here\n",
    "    with torch.no_grad():\n",
    "        logits = model(**{'pixel_values':batch.to(device)}).logits.transpose(1,3).transpose(1,2)\n",
    "    probas = F.softmax(logits,dim=-1)\n",
    "\n",
    "    floor = (probas[:,:,:,3]>t_floor)*1\n",
    "    wall = (probas[:,:,:,0]>t_floor)*1\n",
    "    \n",
    "    ceiling = (probas[:,:,:,5]>t_ceiling)*1\n",
    "    \n",
    "    obstacles = (probas[:,:,:,oii].max(axis=-1).values>t_obstacles)*1\n",
    "\n",
    "    \n",
    "    id_floor = torch.where(floor)\n",
    "    id_ceiling = torch.where(ceiling)\n",
    "    id_wall = torch.where(wall)\n",
    "    id_obstacles = torch.where(obstacles)\n",
    "\n",
    "    tmp = torch.zeros_like(floor).float()-0.5 #we consider here that unsegmented pixels are walls here (improve results)\n",
    "    tmp[id_ceiling] = 0\n",
    "    tmp[id_floor] = 0\n",
    "    tmp[id_wall] = -0.5\n",
    "    tmp[id_obstacles] = -1\n",
    "    \n",
    "\n",
    "    \n",
    "    frames_states = tmp.unsqueeze(1).repeat(repeats=(1,3,1,1))\n",
    "    frames_seg.append((np.array((frames_states.cpu().detach().permute(0,2,3,1)+1)*127.5)).astype(np.uint8))\n",
    "    action_states = torch.zeros(tmp.shape[0],20,4).to(device)\n",
    "    with torch.no_grad():\n",
    "        o = model_RL(frames_states,action_states)[1]\n",
    "    proba_moves = np.array(nn.Softmax(-1)((o-o.mean())*5).cpu().detach())\n",
    "    probas_moves.append(proba_moves)\n",
    "    v_thetas.append(np.array(o.mean(-1).cpu().detach()))\n",
    "    del batch\n",
    "    del tmp\n",
    "    del frames_states\n",
    "    del action_states\n",
    "    torch.cuda.empty_cache()\n",
    "\n",
    "print('Mapping navigational features')\n",
    "\n",
    "frames_seg = np.concatenate(frames_seg)\n",
    "v_thetas = np.concatenate(v_thetas)\n",
    "probas_moves = np.concatenate(probas_moves)\n",
    "arrowed_segs = [visualize_arrows_bis(frames_seg[i],v_thetas[i],3) for i in tqdm(range(len(frames_seg)))] #cnvert to RGB, then draw arrows\n",
    "arrowed_segs = [visualize_arrows(arrowed_segs[i],probas_moves[i]) for i in tqdm(range(len(arrowed_segs)))]\n",
    "arrowed_segs = np.array(arrowed_segs).repeat(5,0)\n",
    "\n",
    "print('Computing plots of v_theta')\n",
    "q_array = v_thetas.repeat(5)\n",
    "q_frames = []\n",
    "for i in tqdm(range(len(q_array))):\n",
    "    plt.plot(q_array[:i],c='blue')\n",
    "    plt.xlim(0, len(frames))  # x-range from 0 to 2*pi\n",
    "    plt.ylim(v_thetas.min()-0.2,v_thetas.max()+0.2)     \n",
    "    plt.xlabel('Frame',fontsize=20)\n",
    "    plt.ylabel('$V_{\\\\theta}$',fontsize=20)\n",
    "    plt.yticks([])\n",
    "    \n",
    "    buf = io.BytesIO()\n",
    "    plt.savefig(buf, format='png')\n",
    "    buf.seek(0)\n",
    "    image = Image.open(buf).resize((612,512))\n",
    "    q_frames.append(np.array(image)[:,:,:3])\n",
    "    plt.close()\n",
    "\n",
    "print('Saving video')\n",
    "frames_video = []\n",
    "video = cv2.VideoWriter(output_path,cv2.VideoWriter_fourcc(*'XVID'),50, (1636,512))\n",
    "for i in tqdm(range(len(frames))):\n",
    "    i0 = np.array(Image.fromarray(frames[i]).resize((512,512)))\n",
    "    i1 = np.array(Image.fromarray(arrowed_segs[i]).resize((512,512)))\n",
    "    i2 = q_frames[i]\n",
    "    image = np.concatenate((i2,i0,i1),axis=1)\n",
    "    frames_video.append(image)\n",
    "    video.write(cv2.cvtColor(image, cv2.COLOR_RGB2BGR))\n",
    "video.release()"
   ]
  },
  {
   "cell_type": "markdown",
   "id": "b0d54904-5143-4ba7-afc6-68f46750a452",
   "metadata": {},
   "source": [
    "### Full process took about 1min30 minuts on RTX 3060"
   ]
  },
  {
   "cell_type": "code",
   "execution_count": 7,
   "id": "17f009e9-aef5-4e0c-9f75-e87a696d65f6",
   "metadata": {
    "tags": []
   },
   "outputs": [
    {
     "data": {
      "text/plain": [
       "<matplotlib.image.AxesImage at 0x26aa7b3a4d0>"
      ]
     },
     "execution_count": 7,
     "metadata": {},
     "output_type": "execute_result"
    },
    {
     "data": {
      "image/png": "[encoded data removed]",
      "text/plain": [
       "<Figure size 640x480 with 1 Axes>"
      ]
     },
     "metadata": {},
     "output_type": "display_data"
    }
   ],
   "source": [
    "plt.imshow(image)"
   ]
  },
  {
   "cell_type": "markdown",
   "id": "d5ae5136-0b4b-4fc0-9bcb-8e02ab11edff",
   "metadata": {
    "tags": []
   },
   "source": [
    "### If you want to output a gif"
   ]
  },
  {
   "cell_type": "code",
   "execution_count": 8,
   "id": "39b0aff5-60bc-4dda-98f9-b1816a7166ed",
   "metadata": {
    "tags": []
   },
   "outputs": [],
   "source": [
    "images = [Image.fromarray(i).resize((820,256)) for i in frames_video]\n",
    "images = images[::3]\n",
    "width, height = images[0].size\n",
    "\n",
    "\n",
    "images[0].save(output_path, save_all=True, append_images=images[1:], optimize=False, duration=80, loop=0)\n"
   ]
  }
 ],
 "metadata": {
  "kernelspec": {
   "display_name": "Python 3 (ipykernel)",
   "language": "python",
   "name": "python3"
  },
  "language_info": {
   "codemirror_mode": {
    "name": "ipython",
    "version": 3
   },
   "file_extension": ".py",
   "mimetype": "text/x-python",
   "name": "python",
   "nbconvert_exporter": "python",
   "pygments_lexer": "ipython3",
   "version": "3.11.5"
  }
 },
 "nbformat": 4,
 "nbformat_minor": 5
}
