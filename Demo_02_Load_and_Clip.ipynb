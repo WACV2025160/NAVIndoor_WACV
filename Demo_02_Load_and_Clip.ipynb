{
 "cells": [
  {
   "cell_type": "code",
   "execution_count": 1,
   "id": "671d7d67-96a3-4797-98df-4ff6e8654851",
   "metadata": {},
   "outputs": [
    {
     "name": "stdout",
     "output_type": "stream",
     "text": [
      "[UnityMemory] Configuration Parameters - Can be set up in boot.config\n",
      "    \"memorysetup-bucket-allocator-granularity=16\"\n",
      "    \"memorysetup-bucket-allocator-bucket-count=8\"\n",
      "    \"memorysetup-bucket-allocator-block-size=4194304\"\n",
      "    \"memorysetup-bucket-allocator-block-count=1\"\n",
      "    \"memorysetup-main-allocator-block-size=16777216\"\n",
      "    \"memorysetup-thread-allocator-block-size=16777216\"\n",
      "    \"memorysetup-gfx-main-allocator-block-size=16777216\"\n",
      "    \"memorysetup-gfx-thread-allocator-block-size=16777216\"\n",
      "    \"memorysetup-cache-allocator-block-size=4194304\"\n",
      "    \"memorysetup-typetree-allocator-block-size=2097152\"\n",
      "    \"memorysetup-profiler-bucket-allocator-granularity=16\"\n",
      "    \"memorysetup-profiler-bucket-allocator-bucket-count=8\"\n",
      "    \"memorysetup-profiler-bucket-allocator-block-size=4194304\"\n",
      "    \"memorysetup-profiler-bucket-allocator-block-count=1\"\n",
      "    \"memorysetup-profiler-allocator-block-size=16777216\"\n",
      "    \"memorysetup-profiler-editor-allocator-block-size=1048576\"\n",
      "    \"memorysetup-temp-allocator-size-main=4194304\"\n",
      "    \"memorysetup-job-temp-allocator-block-size=2097152\"\n",
      "    \"memorysetup-job-temp-allocator-block-size-background=1048576\"\n",
      "    \"memorysetup-job-temp-allocator-reduction-small-platforms=262144\"\n",
      "    \"memorysetup-allocator-temp-initial-block-size-main=262144\"\n",
      "    \"memorysetup-allocator-temp-initial-block-size-worker=262144\"\n",
      "    \"memorysetup-temp-allocator-size-background-worker=32768\"\n",
      "    \"memorysetup-temp-allocator-size-job-worker=262144\"\n",
      "    \"memorysetup-temp-allocator-size-preload-manager=262144\"\n",
      "    \"memorysetup-temp-allocator-size-nav-mesh-worker=65536\"\n",
      "    \"memorysetup-temp-allocator-size-audio-worker=65536\"\n",
      "    \"memorysetup-temp-allocator-size-cloud-worker=32768\"\n",
      "    \"memorysetup-temp-allocator-size-gfx=262144\"\n"
     ]
    }
   ],
   "source": [
    "from utils.model import MNmodelPartAM_Dueling\n",
    "import pickle\n",
    "import torch\n",
    "import os\n",
    "from matplotlib import pyplot as plt\n",
    "from utils.learner import Segmenter, RLLearner\n",
    "from utils.env_utils import load_env\n",
    "import cv2\n",
    "from tqdm import tqdm\n",
    "torch.backends.cudnn.benchmark = True\n",
    "device = torch.device(\"cuda\" if torch.cuda.is_available() else \"cpu\")\n",
    "\n",
    "train_build = 'NAVIndoor/maze' #environment path\n",
    "env, behavior_name,channel_env = load_env(train_build,10,0,0,0.3)\n",
    "\n",
    "model = MNmodelPartAM_Dueling(scale=3,output=4,dropout=0,n_actions = 4,am = 20,aes = 20, ahes = 150,n_frames=3)\n",
    "model.load_state_dict(torch.load('checkpoint/checkpoint.pt',map_location=device))\n",
    "\n",
    "\n",
    "Learner = RLLearner(env=env,\n",
    "                    model=model,\n",
    "                    target_model=model,\n",
    "                    action_mapper = {0:[1,0],1:[0,1],2:[0,-1],3:[-1,0]},\n",
    "                    segmenter = Segmenter(True), #Segmenter argument is ground segmentation (with value 0.5)\n",
    "                    channel_env = channel_env,\n",
    "                    using_seg_input = True,\n",
    "                    action_memory = 20\n",
    ") \n",
    "Learner.init_state()\n"
   ]
  },
  {
   "cell_type": "code",
   "execution_count": null,
   "id": "5094d096-8be1-4b91-a5e9-949d449517d4",
   "metadata": {},
   "outputs": [],
   "source": [
    "video_path = 'video_episode.avi'\n",
    "\n",
    "frames = Learner.clip(1000)\n",
    "video = cv2.VideoWriter(video_path,cv2.VideoWriter_fourcc(*'XVID'),15, (128,128)) #path, encoding, frames per second, image size\n",
    "for image in tqdm(frames):\n",
    "    video.write(cv2.cvtColor(image, cv2.COLOR_RGB2BGR))\n",
    "video.release()"
   ]
  }
 ],
 "metadata": {
  "kernelspec": {
   "display_name": "Python 3 (ipykernel)",
   "language": "python",
   "name": "python3"
  },
  "language_info": {
   "codemirror_mode": {
    "name": "ipython",
    "version": 3
   },
   "file_extension": ".py",
   "mimetype": "text/x-python",
   "name": "python",
   "nbconvert_exporter": "python",
   "pygments_lexer": "ipython3",
   "version": "3.11.5"
  }
 },
 "nbformat": 4,
 "nbformat_minor": 5
}
